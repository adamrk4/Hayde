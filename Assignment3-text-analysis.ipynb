{
 "cells": [
  {
   "cell_type": "markdown",
   "metadata": {},
   "source": [
    "# Assignment 3 - Text Analysis\n",
    "An explanation this assignment could be found in the .pdf explanation document"
   ]
  },
  {
   "cell_type": "markdown",
   "metadata": {},
   "source": [
    "\n",
    "## Materials to review for this assignment\n",
    "<h4>From Moodle:</h4> \n",
    "<h5><u>Review the notebooks regarding the following python topics</u>:</h5>\n",
    "<div class=\"alert alert-info\">\n",
    "&#x2714; <b>Working with strings</b> (tutorial notebook)<br/>\n",
    "&#x2714; <b>Text Analysis</b> (tutorial notebook)<br/>\n",
    "&#x2714; <b>Hebrew text analysis tools (tokenizer, wordnet)</b> (moodle example)<br/>\n",
    "&#x2714; <b>(brief review) All previous notebooks</b><br/>\n",
    "</div> \n",
    "<h5><u>Review the presentations regarding the following topics</u>:</h5>\n",
    "<div class=\"alert alert-info\">\n",
    "&#x2714; <b>Text Analysis</b> (lecture presentation)<br/>\n",
    "&#x2714; <b>(brief review) All other presentations</b><br/>\n",
    "</div>"
   ]
  },
  {
   "cell_type": "markdown",
   "metadata": {},
   "source": [
    "## Personal Details:"
   ]
  },
  {
   "cell_type": "code",
   "execution_count": 1,
   "metadata": {},
   "outputs": [],
   "source": [
    "# Details Student 1:Adam Rabinovich\n",
    "\n",
    "# Details Student 2:Gilad Levi\n"
   ]
  },
  {
   "cell_type": "markdown",
   "metadata": {},
   "source": [
    "## Preceding Step - import modules (packages)\n",
    "This step is necessary in order to use external modules (packages). <br/>"
   ]
  },
  {
   "cell_type": "code",
   "execution_count": 2,
   "metadata": {},
   "outputs": [],
   "source": [
    "# --------------------------------------\n",
    "import pandas as pd\n",
    "import numpy as np\n",
    "# --------------------------------------\n",
    "\n",
    "\n",
    "# --------------------------------------\n",
    "# ------------- visualizations:\n",
    "import seaborn as sns\n",
    "import matplotlib.pyplot as plt\n",
    "from matplotlib.colors import ListedColormap\n",
    "# --------------------------------------\n",
    "\n",
    "\n",
    "# ---------------------------------------\n",
    "import sklearn\n",
    "from sklearn import preprocessing, metrics, pipeline, model_selection, feature_extraction \n",
    "from sklearn import naive_bayes, linear_model, svm, neural_network, neighbors, tree\n",
    "from sklearn import decomposition, cluster\n",
    "\n",
    "from sklearn.model_selection import train_test_split, cross_val_score, GridSearchCV \n",
    "from sklearn.pipeline import Pipeline\n",
    "from sklearn.metrics import accuracy_score, confusion_matrix\n",
    "from sklearn.metrics import precision_score, recall_score, f1_score\n",
    "from sklearn.metrics import mean_squared_error, r2_score, silhouette_score\n",
    "from sklearn.preprocessing import MinMaxScaler, StandardScaler, LabelEncoder\n",
    "from sklearn.metrics import make_scorer, f1_score\n",
    "\n",
    "\n",
    "from sklearn.tree import DecisionTreeClassifier\n",
    "from sklearn.neighbors import KNeighborsClassifier\n",
    "from sklearn.naive_bayes import MultinomialNB\n",
    "from sklearn.svm import LinearSVC\n",
    "from sklearn.linear_model import LogisticRegression\n",
    "from sklearn.linear_model import Perceptron\n",
    "from sklearn.linear_model import SGDClassifier\n",
    "from sklearn.ensemble import RandomForestClassifier\n",
    "# ---------------------------------------\n",
    "\n",
    "\n",
    "# ----------------- output and visualizations: \n",
    "import warnings\n",
    "from sklearn.exceptions import ConvergenceWarning\n",
    "warnings.simplefilter(\"ignore\")\n",
    "warnings.simplefilter(action='ignore', category=FutureWarning)\n",
    "warnings.simplefilter(\"ignore\", category=ConvergenceWarning)\n",
    "# show several prints in one cell. This will allow us to condence every trick in one cell.\n",
    "from IPython.core.interactiveshell import InteractiveShell\n",
    "InteractiveShell.ast_node_interactivity = \"all\"\n",
    "%matplotlib inline\n",
    "pd.pandas.set_option('display.max_columns', None)\n",
    "pd.set_option('display.float_format', lambda x: '%.3f' % x)\n",
    "# ---------------------------------------"
   ]
  },
  {
   "cell_type": "markdown",
   "metadata": {},
   "source": [
    "### Text analysis and String manipulation imports:"
   ]
  },
  {
   "cell_type": "code",
   "execution_count": 3,
   "metadata": {},
   "outputs": [],
   "source": [
    "# --------------------------------------\n",
    "# --------- Text analysis and Hebrew text analysis imports:\n",
    "# vectorizers:\n",
    "from sklearn.feature_extraction import text\n",
    "from sklearn.feature_extraction.text import CountVectorizer, TfidfVectorizer\n",
    "\n",
    "# regular expressions:\n",
    "import re\n",
    "# --------------------------------------"
   ]
  },
  {
   "cell_type": "markdown",
   "metadata": {},
   "source": [
    "### (optional) Hebrew text analysis - WordNet (for Hebrew)\n",
    "Note: the WordNet is not a must"
   ]
  },
  {
   "cell_type": "markdown",
   "metadata": {},
   "source": [
    "#### (optional) Only if you didn't install Wordnet (for Hebrew) use:"
   ]
  },
  {
   "cell_type": "code",
   "execution_count": 4,
   "metadata": {},
   "outputs": [],
   "source": [
    "# word net installation:\n",
    "\n",
    "# unmark if you want to use and need to install\n",
    "# !pip install wn\n",
    "# !python -m wn download omw-he:1.4"
   ]
  },
  {
   "cell_type": "code",
   "execution_count": 5,
   "metadata": {},
   "outputs": [],
   "source": [
    "# word net import:\n",
    "\n",
    "# unmark if you want to use:\n",
    "# import wn"
   ]
  },
  {
   "cell_type": "markdown",
   "metadata": {},
   "source": [
    "### (optional) Hebrew text analysis - hebrew_tokenizer (Tokenizer for Hebrew)\n",
    "Note: the hebrew_tokenizer is not a must"
   ]
  },
  {
   "cell_type": "markdown",
   "metadata": {},
   "source": [
    "#### (optional) Only if you didn't install hebrew_tokenizer use:"
   ]
  },
  {
   "cell_type": "code",
   "execution_count": 6,
   "metadata": {},
   "outputs": [],
   "source": [
    "# Hebrew tokenizer installation:\n",
    "\n",
    "# unmark if you want to use and need to install:\n",
    "# !pip install hebrew_tokenizer"
   ]
  },
  {
   "cell_type": "code",
   "execution_count": 7,
   "metadata": {},
   "outputs": [],
   "source": [
    "# Hebrew tokenizer import:\n",
    "\n",
    "# unmark if you want to use:\n",
    "# import hebrew_tokenizer as ht"
   ]
  },
  {
   "cell_type": "markdown",
   "metadata": {},
   "source": [
    "### Reading input files\n",
    "Reading input files for train annotated corpus (raw text data) corpus and for the test corpus"
   ]
  },
  {
   "cell_type": "code",
   "execution_count": 8,
   "metadata": {},
   "outputs": [],
   "source": [
    "train_filename = 'annotated_corpus_for_train.csv'\n",
    "test_filename  = 'corpus_for_test.csv'\n",
    "df_train = pd.read_csv(train_filename, index_col=None, encoding='utf-8')\n",
    "df_test  = pd.read_csv(test_filename, index_col=None, encoding='utf-8')"
   ]
  },
  {
   "cell_type": "code",
   "execution_count": 9,
   "metadata": {},
   "outputs": [
    {
     "data": {
      "text/html": [
       "<div>\n",
       "<style scoped>\n",
       "    .dataframe tbody tr th:only-of-type {\n",
       "        vertical-align: middle;\n",
       "    }\n",
       "\n",
       "    .dataframe tbody tr th {\n",
       "        vertical-align: top;\n",
       "    }\n",
       "\n",
       "    .dataframe thead th {\n",
       "        text-align: right;\n",
       "    }\n",
       "</style>\n",
       "<table border=\"1\" class=\"dataframe\">\n",
       "  <thead>\n",
       "    <tr style=\"text-align: right;\">\n",
       "      <th></th>\n",
       "      <th>story</th>\n",
       "      <th>gender</th>\n",
       "    </tr>\n",
       "  </thead>\n",
       "  <tbody>\n",
       "    <tr>\n",
       "      <th>0</th>\n",
       "      <td>כשחבר הזמין אותי לחול, לא באמת חשבתי שזה יקרה,...</td>\n",
       "      <td>m</td>\n",
       "    </tr>\n",
       "    <tr>\n",
       "      <th>1</th>\n",
       "      <td>לפני שהתגייסתי לצבא עשיתי כל מני מיונים ליחידו...</td>\n",
       "      <td>m</td>\n",
       "    </tr>\n",
       "    <tr>\n",
       "      <th>2</th>\n",
       "      <td>מאז שהתחילו הלימודים חלומו של כל סטודנט זה הפנ...</td>\n",
       "      <td>f</td>\n",
       "    </tr>\n",
       "    <tr>\n",
       "      <th>3</th>\n",
       "      <td>כשהייתי ילד, מטוסים היה הדבר שהכי ריתק אותי. ב...</td>\n",
       "      <td>m</td>\n",
       "    </tr>\n",
       "    <tr>\n",
       "      <th>4</th>\n",
       "      <td>‏הייתי מדריכה בכפר נוער ומתאם הכפר היינו צריכי...</td>\n",
       "      <td>f</td>\n",
       "    </tr>\n",
       "    <tr>\n",
       "      <th>5</th>\n",
       "      <td>לפני כ3 חודשים טסתי לרומא למשך שבוע. טסתי במטו...</td>\n",
       "      <td>f</td>\n",
       "    </tr>\n",
       "    <tr>\n",
       "      <th>6</th>\n",
       "      <td>אני כבר שנתיים נשוי והשנה אני ואישתי סוף סוף י...</td>\n",
       "      <td>m</td>\n",
       "    </tr>\n",
       "    <tr>\n",
       "      <th>7</th>\n",
       "      <td>השנה התחלנו שיפוץ בדירה שלנו בתל אביב. הדירה ה...</td>\n",
       "      <td>f</td>\n",
       "    </tr>\n",
       "  </tbody>\n",
       "</table>\n",
       "</div>"
      ],
      "text/plain": [
       "                                               story gender\n",
       "0  כשחבר הזמין אותי לחול, לא באמת חשבתי שזה יקרה,...      m\n",
       "1  לפני שהתגייסתי לצבא עשיתי כל מני מיונים ליחידו...      m\n",
       "2  מאז שהתחילו הלימודים חלומו של כל סטודנט זה הפנ...      f\n",
       "3  כשהייתי ילד, מטוסים היה הדבר שהכי ריתק אותי. ב...      m\n",
       "4  ‏הייתי מדריכה בכפר נוער ומתאם הכפר היינו צריכי...      f\n",
       "5  לפני כ3 חודשים טסתי לרומא למשך שבוע. טסתי במטו...      f\n",
       "6  אני כבר שנתיים נשוי והשנה אני ואישתי סוף סוף י...      m\n",
       "7  השנה התחלנו שיפוץ בדירה שלנו בתל אביב. הדירה ה...      f"
      ]
     },
     "execution_count": 9,
     "metadata": {},
     "output_type": "execute_result"
    },
    {
     "data": {
      "text/plain": [
       "(753, 2)"
      ]
     },
     "execution_count": 9,
     "metadata": {},
     "output_type": "execute_result"
    }
   ],
   "source": [
    "df_train.head(8)\n",
    "df_train.shape"
   ]
  },
  {
   "cell_type": "code",
   "execution_count": 10,
   "metadata": {},
   "outputs": [
    {
     "data": {
      "text/html": [
       "<div>\n",
       "<style scoped>\n",
       "    .dataframe tbody tr th:only-of-type {\n",
       "        vertical-align: middle;\n",
       "    }\n",
       "\n",
       "    .dataframe tbody tr th {\n",
       "        vertical-align: top;\n",
       "    }\n",
       "\n",
       "    .dataframe thead th {\n",
       "        text-align: right;\n",
       "    }\n",
       "</style>\n",
       "<table border=\"1\" class=\"dataframe\">\n",
       "  <thead>\n",
       "    <tr style=\"text-align: right;\">\n",
       "      <th></th>\n",
       "      <th>test_example_id</th>\n",
       "      <th>story</th>\n",
       "    </tr>\n",
       "  </thead>\n",
       "  <tbody>\n",
       "    <tr>\n",
       "      <th>0</th>\n",
       "      <td>0</td>\n",
       "      <td>כל קיץ אני והמשפחה נוסעים לארצות הברית לוס אנג...</td>\n",
       "    </tr>\n",
       "    <tr>\n",
       "      <th>1</th>\n",
       "      <td>1</td>\n",
       "      <td>הגעתי לשירות המדינה אחרי שנתיים כפעיל בתנועת \"...</td>\n",
       "    </tr>\n",
       "    <tr>\n",
       "      <th>2</th>\n",
       "      <td>2</td>\n",
       "      <td>אחת האהבות הגדולות שלי אלו הכלבים שלי ושל אישת...</td>\n",
       "    </tr>\n",
       "  </tbody>\n",
       "</table>\n",
       "</div>"
      ],
      "text/plain": [
       "   test_example_id                                              story\n",
       "0                0  כל קיץ אני והמשפחה נוסעים לארצות הברית לוס אנג...\n",
       "1                1  הגעתי לשירות המדינה אחרי שנתיים כפעיל בתנועת \"...\n",
       "2                2  אחת האהבות הגדולות שלי אלו הכלבים שלי ושל אישת..."
      ]
     },
     "execution_count": 10,
     "metadata": {},
     "output_type": "execute_result"
    },
    {
     "data": {
      "text/plain": [
       "(323, 2)"
      ]
     },
     "execution_count": 10,
     "metadata": {},
     "output_type": "execute_result"
    }
   ],
   "source": [
    "df_test.head(3)\n",
    "df_test.shape"
   ]
  },
  {
   "cell_type": "markdown",
   "metadata": {},
   "source": [
    "### Your implementation:\n",
    "Write your code solution in the following code-cells"
   ]
  },
  {
   "cell_type": "code",
   "execution_count": 11,
   "metadata": {},
   "outputs": [],
   "source": [
    "def Avg1(y_true, y_pred):\n",
    "    return f1_score(y_true, y_pred, average='macro')"
   ]
  },
  {
   "cell_type": "code",
   "execution_count": 12,
   "metadata": {},
   "outputs": [],
   "source": [
    "def custom_tokenizer(text):\n",
    "    tavnit = r'\\d{1,2}\\.\\d{1,2}\\.\\d{2,4}|\\d{1,2}:\\d{2}|[.,/:]|[^\\s,./:]+'\n",
    "    words = re.findall(tavnit, text)\n",
    "    \n",
    "    return words\n"
   ]
  },
  {
   "cell_type": "code",
   "execution_count": 13,
   "metadata": {},
   "outputs": [
    {
     "name": "stdout",
     "output_type": "stream",
     "text": [
      ",: 3\n",
      ".: 2\n",
      "1.01.23: 1\n",
      "15:59: 1\n",
      "אחלה: 1\n",
      "אכלתי: 1\n",
      "בעולם: 1\n",
      "בשעה: 1\n",
      "בתאריך: 1\n",
      "הכי: 1\n",
      "חומוס: 2\n",
      "טעים: 2\n",
      "לפני: 1\n",
      "פעם: 1\n",
      "ראשונה: 1\n",
      "שנה: 1\n"
     ]
    }
   ],
   "source": [
    "df_train_copy = df_train.copy()\n",
    "text = [\"לפני שנה, אכלתי חומוס, פעם ראשונה.. בשעה 15:59 בתאריך , 1.01.23 אחלה חומוס הכי טעים טעים בעולם\"]\n",
    "\n",
    "vectorizer = CountVectorizer(tokenizer=custom_tokenizer)\n",
    "\n",
    "paragraph_transformed = vectorizer.fit_transform(text)\n",
    "\n",
    "vocabulary = vectorizer.get_feature_names_out()\n",
    "\n",
    "# Print the counts for each word in the paragraph\n",
    "word_counts = paragraph_transformed.toarray()\n",
    "for word, count in zip(vocabulary, word_counts[0]):\n",
    "    print(f\"{word}: {count}\")"
   ]
  },
  {
   "cell_type": "code",
   "execution_count": 14,
   "metadata": {},
   "outputs": [],
   "source": [
    "# Seperating story from gender\n",
    "\n",
    "X = df_train_copy['story']\n",
    "y = df_train_copy['gender']\n",
    "\n",
    "# Preparing for the prediction part\n",
    "\n",
    "y = y.replace('m', 1) \n",
    "y = y.replace('f',  0) "
   ]
  },
  {
   "cell_type": "code",
   "execution_count": 15,
   "metadata": {},
   "outputs": [],
   "source": [
    "vectorizers = [CountVectorizer(tokenizer=custom_tokenizer, ngram_range=(1,1)), TfidfVectorizer(tokenizer=custom_tokenizer, ngram_range=(1,1)),\n",
    "              CountVectorizer(tokenizer=custom_tokenizer, ngram_range=(1, 2)), TfidfVectorizer(tokenizer=custom_tokenizer, ngram_range=(1, 2)),\n",
    "              ]"
   ]
  },
  {
   "cell_type": "code",
   "execution_count": 16,
   "metadata": {},
   "outputs": [],
   "source": [
    "models = [\n",
    "    {'name': 'Decision Tree', 'estimator': DecisionTreeClassifier(random_state=42), 'hyperparameters': {'vect__max_features': [1500, 1750, 2000, 2500], 'clf__max_depth': [5, 10, 15, 20], 'clf__class_weight': [None, 'balanced']}},\n",
    "    {'name': 'K-Nearest Neighbors', 'estimator': KNeighborsClassifier(), 'hyperparameters': {'vect__max_features': [1500, 1750, 2000], 'clf__n_neighbors': [3, 5, 7], 'clf__weights': ['uniform', 'distance']}},\n",
    "    {'name': 'Multinomial Naive Bayes', 'estimator': MultinomialNB(), 'hyperparameters': {'vect__max_features': [1500, 1750, 2000, 2200], 'clf__alpha': [0.01, 0.1, 0.5, 1], 'clf__fit_prior': [True, False]}},\n",
    "    {'name': 'Linear Support Vector Classification', 'estimator': LinearSVC(random_state=42), 'hyperparameters': {'vect__max_features': [1500, 1750, 2000], 'clf__C': [0.1, 1, 10], 'clf__class_weight': [None, 'balanced']}},\n",
    "    {'name': 'Stochastic Gradient Descent', 'estimator': SGDClassifier(random_state=42), 'hyperparameters': {'vect__max_features': [1500, 1750, 2000], 'clf__alpha': [0.0001, 0.001, 0.01], 'clf__max_iter': [500, 1000, 1500], 'clf__penalty': ['l2', 'elasticnet'], 'clf__l1_ratio': [0.15, 0.5, 0.85]}},\n",
    "    {'name': 'Perceptron', 'estimator': Perceptron(random_state=42), 'hyperparameters': {'vect__max_features': [1500, 1750, 2000], 'clf__alpha': [0.0001, 0.001, 0.01], 'clf__max_iter': [500, 1000, 1500], 'clf__penalty': ['l1', 'l2', 'elasticnet']}},\n",
    "    {'name': 'Logistic Regression', 'estimator': LogisticRegression(max_iter=1000), 'hyperparameters': {'vect__max_features': [1500, 1750, 2000], 'clf__C': [0.01, 0.1, 1, 10], 'clf__penalty': ['l1', 'l2'], 'clf__solver': ['liblinear', 'saga'], 'clf__class_weight': [None, 'balanced']}},\n",
    "    {'name': 'Random Forest', 'estimator': RandomForestClassifier(random_state=42), 'hyperparameters': {'vect__max_features': [1500, 1750, 2000], 'clf__n_estimators': [10, 50, 100], 'clf__max_depth': [None, 10, 20], 'clf__min_samples_split': [2, 5, 10]}},\n",
    "]"
   ]
  },
  {
   "cell_type": "code",
   "execution_count": 17,
   "metadata": {},
   "outputs": [
    {
     "name": "stdout",
     "output_type": "stream",
     "text": [
      "Model: Decision Tree\n"
     ]
    },
    {
     "data": {
      "text/plain": [
       "GridSearchCV(cv=10,\n",
       "             estimator=Pipeline(steps=[('vect',\n",
       "                                        CountVectorizer(tokenizer=<function custom_tokenizer at 0x00000234245C6550>)),\n",
       "                                       ('clf',\n",
       "                                        DecisionTreeClassifier(random_state=42))]),\n",
       "             param_grid={'clf__class_weight': [None, 'balanced'],\n",
       "                         'clf__max_depth': [5, 10, 15, 20],\n",
       "                         'vect__max_features': [1500, 1750, 2000, 2500]},\n",
       "             scoring=make_scorer(Avg1))"
      ]
     },
     "execution_count": 17,
     "metadata": {},
     "output_type": "execute_result"
    },
    {
     "name": "stdout",
     "output_type": "stream",
     "text": [
      "Best hyperparameters: {'clf__class_weight': None, 'clf__max_depth': 20, 'vect__max_features': 1750}\n",
      "Cross-validation score: 0.61\n",
      "<---------------------------------------------------------------------->\n",
      "Model: K-Nearest Neighbors\n"
     ]
    },
    {
     "data": {
      "text/plain": [
       "GridSearchCV(cv=10,\n",
       "             estimator=Pipeline(steps=[('vect',\n",
       "                                        CountVectorizer(tokenizer=<function custom_tokenizer at 0x00000234245C6550>)),\n",
       "                                       ('clf', KNeighborsClassifier())]),\n",
       "             param_grid={'clf__n_neighbors': [3, 5, 7],\n",
       "                         'clf__weights': ['uniform', 'distance'],\n",
       "                         'vect__max_features': [1500, 1750, 2000]},\n",
       "             scoring=make_scorer(Avg1))"
      ]
     },
     "execution_count": 17,
     "metadata": {},
     "output_type": "execute_result"
    },
    {
     "name": "stdout",
     "output_type": "stream",
     "text": [
      "Best hyperparameters: {'clf__n_neighbors': 3, 'clf__weights': 'distance', 'vect__max_features': 1750}\n",
      "Cross-validation score: 0.57\n",
      "<---------------------------------------------------------------------->\n",
      "Model: Multinomial Naive Bayes\n"
     ]
    },
    {
     "data": {
      "text/plain": [
       "GridSearchCV(cv=10,\n",
       "             estimator=Pipeline(steps=[('vect',\n",
       "                                        CountVectorizer(tokenizer=<function custom_tokenizer at 0x00000234245C6550>)),\n",
       "                                       ('clf', MultinomialNB())]),\n",
       "             param_grid={'clf__alpha': [0.01, 0.1, 0.5, 1],\n",
       "                         'clf__fit_prior': [True, False],\n",
       "                         'vect__max_features': [1500, 1750, 2000, 2200]},\n",
       "             scoring=make_scorer(Avg1))"
      ]
     },
     "execution_count": 17,
     "metadata": {},
     "output_type": "execute_result"
    },
    {
     "name": "stdout",
     "output_type": "stream",
     "text": [
      "Best hyperparameters: {'clf__alpha': 0.5, 'clf__fit_prior': False, 'vect__max_features': 2200}\n",
      "Cross-validation score: 0.70\n",
      "<---------------------------------------------------------------------->\n",
      "Model: Linear Support Vector Classification\n"
     ]
    },
    {
     "data": {
      "text/plain": [
       "GridSearchCV(cv=10,\n",
       "             estimator=Pipeline(steps=[('vect',\n",
       "                                        CountVectorizer(tokenizer=<function custom_tokenizer at 0x00000234245C6550>)),\n",
       "                                       ('clf', LinearSVC(random_state=42))]),\n",
       "             param_grid={'clf__C': [0.1, 1, 10],\n",
       "                         'clf__class_weight': [None, 'balanced'],\n",
       "                         'vect__max_features': [1500, 1750, 2000]},\n",
       "             scoring=make_scorer(Avg1))"
      ]
     },
     "execution_count": 17,
     "metadata": {},
     "output_type": "execute_result"
    },
    {
     "name": "stdout",
     "output_type": "stream",
     "text": [
      "Best hyperparameters: {'clf__C': 1, 'clf__class_weight': None, 'vect__max_features': 2000}\n",
      "Cross-validation score: 0.69\n",
      "<---------------------------------------------------------------------->\n",
      "Model: Stochastic Gradient Descent\n"
     ]
    },
    {
     "data": {
      "text/plain": [
       "GridSearchCV(cv=10,\n",
       "             estimator=Pipeline(steps=[('vect',\n",
       "                                        CountVectorizer(tokenizer=<function custom_tokenizer at 0x00000234245C6550>)),\n",
       "                                       ('clf',\n",
       "                                        SGDClassifier(random_state=42))]),\n",
       "             param_grid={'clf__alpha': [0.0001, 0.001, 0.01],\n",
       "                         'clf__l1_ratio': [0.15, 0.5, 0.85],\n",
       "                         'clf__max_iter': [500, 1000, 1500],\n",
       "                         'clf__penalty': ['l2', 'elasticnet'],\n",
       "                         'vect__max_features': [1500, 1750, 2000]},\n",
       "             scoring=make_scorer(Avg1))"
      ]
     },
     "execution_count": 17,
     "metadata": {},
     "output_type": "execute_result"
    },
    {
     "name": "stdout",
     "output_type": "stream",
     "text": [
      "Best hyperparameters: {'clf__alpha': 0.0001, 'clf__l1_ratio': 0.15, 'clf__max_iter': 500, 'clf__penalty': 'elasticnet', 'vect__max_features': 2000}\n",
      "Cross-validation score: 0.68\n",
      "<---------------------------------------------------------------------->\n",
      "Model: Perceptron\n"
     ]
    },
    {
     "data": {
      "text/plain": [
       "GridSearchCV(cv=10,\n",
       "             estimator=Pipeline(steps=[('vect',\n",
       "                                        CountVectorizer(tokenizer=<function custom_tokenizer at 0x00000234245C6550>)),\n",
       "                                       ('clf', Perceptron(random_state=42))]),\n",
       "             param_grid={'clf__alpha': [0.0001, 0.001, 0.01],\n",
       "                         'clf__max_iter': [500, 1000, 1500],\n",
       "                         'clf__penalty': ['l1', 'l2', 'elasticnet'],\n",
       "                         'vect__max_features': [1500, 1750, 2000]},\n",
       "             scoring=make_scorer(Avg1))"
      ]
     },
     "execution_count": 17,
     "metadata": {},
     "output_type": "execute_result"
    },
    {
     "name": "stdout",
     "output_type": "stream",
     "text": [
      "Best hyperparameters: {'clf__alpha': 0.0001, 'clf__max_iter': 500, 'clf__penalty': 'l1', 'vect__max_features': 1500}\n",
      "Cross-validation score: 0.66\n",
      "<---------------------------------------------------------------------->\n",
      "Model: Logistic Regression\n"
     ]
    },
    {
     "data": {
      "text/plain": [
       "GridSearchCV(cv=10,\n",
       "             estimator=Pipeline(steps=[('vect',\n",
       "                                        CountVectorizer(tokenizer=<function custom_tokenizer at 0x00000234245C6550>)),\n",
       "                                       ('clf',\n",
       "                                        LogisticRegression(max_iter=1000))]),\n",
       "             param_grid={'clf__C': [0.01, 0.1, 1, 10],\n",
       "                         'clf__class_weight': [None, 'balanced'],\n",
       "                         'clf__penalty': ['l1', 'l2'],\n",
       "                         'clf__solver': ['liblinear', 'saga'],\n",
       "                         'vect__max_features': [1500, 1750, 2000]},\n",
       "             scoring=make_scorer(Avg1))"
      ]
     },
     "execution_count": 17,
     "metadata": {},
     "output_type": "execute_result"
    },
    {
     "name": "stdout",
     "output_type": "stream",
     "text": [
      "Best hyperparameters: {'clf__C': 10, 'clf__class_weight': 'balanced', 'clf__penalty': 'l2', 'clf__solver': 'saga', 'vect__max_features': 2000}\n",
      "Cross-validation score: 0.70\n",
      "<---------------------------------------------------------------------->\n",
      "Model: Random Forest\n"
     ]
    },
    {
     "data": {
      "text/plain": [
       "GridSearchCV(cv=10,\n",
       "             estimator=Pipeline(steps=[('vect',\n",
       "                                        CountVectorizer(tokenizer=<function custom_tokenizer at 0x00000234245C6550>)),\n",
       "                                       ('clf',\n",
       "                                        RandomForestClassifier(random_state=42))]),\n",
       "             param_grid={'clf__max_depth': [None, 10, 20],\n",
       "                         'clf__min_samples_split': [2, 5, 10],\n",
       "                         'clf__n_estimators': [10, 50, 100],\n",
       "                         'vect__max_features': [1500, 1750, 2000]},\n",
       "             scoring=make_scorer(Avg1))"
      ]
     },
     "execution_count": 17,
     "metadata": {},
     "output_type": "execute_result"
    },
    {
     "name": "stdout",
     "output_type": "stream",
     "text": [
      "Best hyperparameters: {'clf__max_depth': None, 'clf__min_samples_split': 2, 'clf__n_estimators': 10, 'vect__max_features': 1500}\n",
      "Cross-validation score: 0.55\n",
      "<---------------------------------------------------------------------->\n",
      "Model: Decision Tree\n"
     ]
    },
    {
     "data": {
      "text/plain": [
       "GridSearchCV(cv=10,\n",
       "             estimator=Pipeline(steps=[('vect',\n",
       "                                        TfidfVectorizer(tokenizer=<function custom_tokenizer at 0x00000234245C6550>)),\n",
       "                                       ('clf',\n",
       "                                        DecisionTreeClassifier(random_state=42))]),\n",
       "             param_grid={'clf__class_weight': [None, 'balanced'],\n",
       "                         'clf__max_depth': [5, 10, 15, 20],\n",
       "                         'vect__max_features': [1500, 1750, 2000, 2500]},\n",
       "             scoring=make_scorer(Avg1))"
      ]
     },
     "execution_count": 17,
     "metadata": {},
     "output_type": "execute_result"
    },
    {
     "name": "stdout",
     "output_type": "stream",
     "text": [
      "Best hyperparameters: {'clf__class_weight': None, 'clf__max_depth': 10, 'vect__max_features': 1750}\n",
      "Cross-validation score: 0.59\n",
      "<---------------------------------------------------------------------->\n",
      "Model: K-Nearest Neighbors\n"
     ]
    },
    {
     "data": {
      "text/plain": [
       "GridSearchCV(cv=10,\n",
       "             estimator=Pipeline(steps=[('vect',\n",
       "                                        TfidfVectorizer(tokenizer=<function custom_tokenizer at 0x00000234245C6550>)),\n",
       "                                       ('clf', KNeighborsClassifier())]),\n",
       "             param_grid={'clf__n_neighbors': [3, 5, 7],\n",
       "                         'clf__weights': ['uniform', 'distance'],\n",
       "                         'vect__max_features': [1500, 1750, 2000]},\n",
       "             scoring=make_scorer(Avg1))"
      ]
     },
     "execution_count": 17,
     "metadata": {},
     "output_type": "execute_result"
    },
    {
     "name": "stdout",
     "output_type": "stream",
     "text": [
      "Best hyperparameters: {'clf__n_neighbors': 5, 'clf__weights': 'uniform', 'vect__max_features': 2000}\n",
      "Cross-validation score: 0.57\n",
      "<---------------------------------------------------------------------->\n",
      "Model: Multinomial Naive Bayes\n"
     ]
    },
    {
     "data": {
      "text/plain": [
       "GridSearchCV(cv=10,\n",
       "             estimator=Pipeline(steps=[('vect',\n",
       "                                        TfidfVectorizer(tokenizer=<function custom_tokenizer at 0x00000234245C6550>)),\n",
       "                                       ('clf', MultinomialNB())]),\n",
       "             param_grid={'clf__alpha': [0.01, 0.1, 0.5, 1],\n",
       "                         'clf__fit_prior': [True, False],\n",
       "                         'vect__max_features': [1500, 1750, 2000, 2200]},\n",
       "             scoring=make_scorer(Avg1))"
      ]
     },
     "execution_count": 17,
     "metadata": {},
     "output_type": "execute_result"
    },
    {
     "name": "stdout",
     "output_type": "stream",
     "text": [
      "Best hyperparameters: {'clf__alpha': 0.1, 'clf__fit_prior': False, 'vect__max_features': 2200}\n",
      "Cross-validation score: 0.68\n",
      "<---------------------------------------------------------------------->\n",
      "Model: Linear Support Vector Classification\n"
     ]
    },
    {
     "data": {
      "text/plain": [
       "GridSearchCV(cv=10,\n",
       "             estimator=Pipeline(steps=[('vect',\n",
       "                                        TfidfVectorizer(tokenizer=<function custom_tokenizer at 0x00000234245C6550>)),\n",
       "                                       ('clf', LinearSVC(random_state=42))]),\n",
       "             param_grid={'clf__C': [0.1, 1, 10],\n",
       "                         'clf__class_weight': [None, 'balanced'],\n",
       "                         'vect__max_features': [1500, 1750, 2000]},\n",
       "             scoring=make_scorer(Avg1))"
      ]
     },
     "execution_count": 17,
     "metadata": {},
     "output_type": "execute_result"
    },
    {
     "name": "stdout",
     "output_type": "stream",
     "text": [
      "Best hyperparameters: {'clf__C': 0.1, 'clf__class_weight': 'balanced', 'vect__max_features': 1750}\n",
      "Cross-validation score: 0.71\n",
      "<---------------------------------------------------------------------->\n",
      "Model: Stochastic Gradient Descent\n"
     ]
    },
    {
     "data": {
      "text/plain": [
       "GridSearchCV(cv=10,\n",
       "             estimator=Pipeline(steps=[('vect',\n",
       "                                        TfidfVectorizer(tokenizer=<function custom_tokenizer at 0x00000234245C6550>)),\n",
       "                                       ('clf',\n",
       "                                        SGDClassifier(random_state=42))]),\n",
       "             param_grid={'clf__alpha': [0.0001, 0.001, 0.01],\n",
       "                         'clf__l1_ratio': [0.15, 0.5, 0.85],\n",
       "                         'clf__max_iter': [500, 1000, 1500],\n",
       "                         'clf__penalty': ['l2', 'elasticnet'],\n",
       "                         'vect__max_features': [1500, 1750, 2000]},\n",
       "             scoring=make_scorer(Avg1))"
      ]
     },
     "execution_count": 17,
     "metadata": {},
     "output_type": "execute_result"
    },
    {
     "name": "stdout",
     "output_type": "stream",
     "text": [
      "Best hyperparameters: {'clf__alpha': 0.0001, 'clf__l1_ratio': 0.85, 'clf__max_iter': 500, 'clf__penalty': 'elasticnet', 'vect__max_features': 2000}\n",
      "Cross-validation score: 0.70\n",
      "<---------------------------------------------------------------------->\n",
      "Model: Perceptron\n"
     ]
    },
    {
     "data": {
      "text/plain": [
       "GridSearchCV(cv=10,\n",
       "             estimator=Pipeline(steps=[('vect',\n",
       "                                        TfidfVectorizer(tokenizer=<function custom_tokenizer at 0x00000234245C6550>)),\n",
       "                                       ('clf', Perceptron(random_state=42))]),\n",
       "             param_grid={'clf__alpha': [0.0001, 0.001, 0.01],\n",
       "                         'clf__max_iter': [500, 1000, 1500],\n",
       "                         'clf__penalty': ['l1', 'l2', 'elasticnet'],\n",
       "                         'vect__max_features': [1500, 1750, 2000]},\n",
       "             scoring=make_scorer(Avg1))"
      ]
     },
     "execution_count": 17,
     "metadata": {},
     "output_type": "execute_result"
    },
    {
     "name": "stdout",
     "output_type": "stream",
     "text": [
      "Best hyperparameters: {'clf__alpha': 0.0001, 'clf__max_iter': 500, 'clf__penalty': 'l2', 'vect__max_features': 1750}\n",
      "Cross-validation score: 0.67\n",
      "<---------------------------------------------------------------------->\n",
      "Model: Logistic Regression\n"
     ]
    },
    {
     "data": {
      "text/plain": [
       "GridSearchCV(cv=10,\n",
       "             estimator=Pipeline(steps=[('vect',\n",
       "                                        TfidfVectorizer(tokenizer=<function custom_tokenizer at 0x00000234245C6550>)),\n",
       "                                       ('clf',\n",
       "                                        LogisticRegression(max_iter=1000))]),\n",
       "             param_grid={'clf__C': [0.01, 0.1, 1, 10],\n",
       "                         'clf__class_weight': [None, 'balanced'],\n",
       "                         'clf__penalty': ['l1', 'l2'],\n",
       "                         'clf__solver': ['liblinear', 'saga'],\n",
       "                         'vect__max_features': [1500, 1750, 2000]},\n",
       "             scoring=make_scorer(Avg1))"
      ]
     },
     "execution_count": 17,
     "metadata": {},
     "output_type": "execute_result"
    },
    {
     "name": "stdout",
     "output_type": "stream",
     "text": [
      "Best hyperparameters: {'clf__C': 1, 'clf__class_weight': 'balanced', 'clf__penalty': 'l2', 'clf__solver': 'liblinear', 'vect__max_features': 2000}\n",
      "Cross-validation score: 0.71\n",
      "<---------------------------------------------------------------------->\n",
      "Model: Random Forest\n"
     ]
    },
    {
     "data": {
      "text/plain": [
       "GridSearchCV(cv=10,\n",
       "             estimator=Pipeline(steps=[('vect',\n",
       "                                        TfidfVectorizer(tokenizer=<function custom_tokenizer at 0x00000234245C6550>)),\n",
       "                                       ('clf',\n",
       "                                        RandomForestClassifier(random_state=42))]),\n",
       "             param_grid={'clf__max_depth': [None, 10, 20],\n",
       "                         'clf__min_samples_split': [2, 5, 10],\n",
       "                         'clf__n_estimators': [10, 50, 100],\n",
       "                         'vect__max_features': [1500, 1750, 2000]},\n",
       "             scoring=make_scorer(Avg1))"
      ]
     },
     "execution_count": 17,
     "metadata": {},
     "output_type": "execute_result"
    },
    {
     "name": "stdout",
     "output_type": "stream",
     "text": [
      "Best hyperparameters: {'clf__max_depth': None, 'clf__min_samples_split': 2, 'clf__n_estimators': 10, 'vect__max_features': 1750}\n",
      "Cross-validation score: 0.56\n",
      "<---------------------------------------------------------------------->\n",
      "Model: Decision Tree\n"
     ]
    },
    {
     "data": {
      "text/plain": [
       "GridSearchCV(cv=10,\n",
       "             estimator=Pipeline(steps=[('vect',\n",
       "                                        CountVectorizer(ngram_range=(1, 2),\n",
       "                                                        tokenizer=<function custom_tokenizer at 0x00000234245C6550>)),\n",
       "                                       ('clf',\n",
       "                                        DecisionTreeClassifier(random_state=42))]),\n",
       "             param_grid={'clf__class_weight': [None, 'balanced'],\n",
       "                         'clf__max_depth': [5, 10, 15, 20],\n",
       "                         'vect__max_features': [1500, 1750, 2000, 2500]},\n",
       "             scoring=make_scorer(Avg1))"
      ]
     },
     "execution_count": 17,
     "metadata": {},
     "output_type": "execute_result"
    },
    {
     "name": "stdout",
     "output_type": "stream",
     "text": [
      "Best hyperparameters: {'clf__class_weight': None, 'clf__max_depth': 15, 'vect__max_features': 2000}\n",
      "Cross-validation score: 0.62\n",
      "<---------------------------------------------------------------------->\n",
      "Model: K-Nearest Neighbors\n"
     ]
    },
    {
     "data": {
      "text/plain": [
       "GridSearchCV(cv=10,\n",
       "             estimator=Pipeline(steps=[('vect',\n",
       "                                        CountVectorizer(ngram_range=(1, 2),\n",
       "                                                        tokenizer=<function custom_tokenizer at 0x00000234245C6550>)),\n",
       "                                       ('clf', KNeighborsClassifier())]),\n",
       "             param_grid={'clf__n_neighbors': [3, 5, 7],\n",
       "                         'clf__weights': ['uniform', 'distance'],\n",
       "                         'vect__max_features': [1500, 1750, 2000]},\n",
       "             scoring=make_scorer(Avg1))"
      ]
     },
     "execution_count": 17,
     "metadata": {},
     "output_type": "execute_result"
    },
    {
     "name": "stdout",
     "output_type": "stream",
     "text": [
      "Best hyperparameters: {'clf__n_neighbors': 3, 'clf__weights': 'distance', 'vect__max_features': 1500}\n",
      "Cross-validation score: 0.57\n",
      "<---------------------------------------------------------------------->\n",
      "Model: Multinomial Naive Bayes\n"
     ]
    },
    {
     "data": {
      "text/plain": [
       "GridSearchCV(cv=10,\n",
       "             estimator=Pipeline(steps=[('vect',\n",
       "                                        CountVectorizer(ngram_range=(1, 2),\n",
       "                                                        tokenizer=<function custom_tokenizer at 0x00000234245C6550>)),\n",
       "                                       ('clf', MultinomialNB())]),\n",
       "             param_grid={'clf__alpha': [0.01, 0.1, 0.5, 1],\n",
       "                         'clf__fit_prior': [True, False],\n",
       "                         'vect__max_features': [1500, 1750, 2000, 2200]},\n",
       "             scoring=make_scorer(Avg1))"
      ]
     },
     "execution_count": 17,
     "metadata": {},
     "output_type": "execute_result"
    },
    {
     "name": "stdout",
     "output_type": "stream",
     "text": [
      "Best hyperparameters: {'clf__alpha': 0.1, 'clf__fit_prior': True, 'vect__max_features': 2000}\n",
      "Cross-validation score: 0.70\n",
      "<---------------------------------------------------------------------->\n",
      "Model: Linear Support Vector Classification\n"
     ]
    },
    {
     "data": {
      "text/plain": [
       "GridSearchCV(cv=10,\n",
       "             estimator=Pipeline(steps=[('vect',\n",
       "                                        CountVectorizer(ngram_range=(1, 2),\n",
       "                                                        tokenizer=<function custom_tokenizer at 0x00000234245C6550>)),\n",
       "                                       ('clf', LinearSVC(random_state=42))]),\n",
       "             param_grid={'clf__C': [0.1, 1, 10],\n",
       "                         'clf__class_weight': [None, 'balanced'],\n",
       "                         'vect__max_features': [1500, 1750, 2000]},\n",
       "             scoring=make_scorer(Avg1))"
      ]
     },
     "execution_count": 17,
     "metadata": {},
     "output_type": "execute_result"
    },
    {
     "name": "stdout",
     "output_type": "stream",
     "text": [
      "Best hyperparameters: {'clf__C': 0.1, 'clf__class_weight': 'balanced', 'vect__max_features': 2000}\n",
      "Cross-validation score: 0.66\n",
      "<---------------------------------------------------------------------->\n",
      "Model: Stochastic Gradient Descent\n"
     ]
    },
    {
     "data": {
      "text/plain": [
       "GridSearchCV(cv=10,\n",
       "             estimator=Pipeline(steps=[('vect',\n",
       "                                        CountVectorizer(ngram_range=(1, 2),\n",
       "                                                        tokenizer=<function custom_tokenizer at 0x00000234245C6550>)),\n",
       "                                       ('clf',\n",
       "                                        SGDClassifier(random_state=42))]),\n",
       "             param_grid={'clf__alpha': [0.0001, 0.001, 0.01],\n",
       "                         'clf__l1_ratio': [0.15, 0.5, 0.85],\n",
       "                         'clf__max_iter': [500, 1000, 1500],\n",
       "                         'clf__penalty': ['l2', 'elasticnet'],\n",
       "                         'vect__max_features': [1500, 1750, 2000]},\n",
       "             scoring=make_scorer(Avg1))"
      ]
     },
     "execution_count": 17,
     "metadata": {},
     "output_type": "execute_result"
    },
    {
     "name": "stdout",
     "output_type": "stream",
     "text": [
      "Best hyperparameters: {'clf__alpha': 0.001, 'clf__l1_ratio': 0.15, 'clf__max_iter': 500, 'clf__penalty': 'l2', 'vect__max_features': 1750}\n",
      "Cross-validation score: 0.66\n",
      "<---------------------------------------------------------------------->\n",
      "Model: Perceptron\n"
     ]
    },
    {
     "data": {
      "text/plain": [
       "GridSearchCV(cv=10,\n",
       "             estimator=Pipeline(steps=[('vect',\n",
       "                                        CountVectorizer(ngram_range=(1, 2),\n",
       "                                                        tokenizer=<function custom_tokenizer at 0x00000234245C6550>)),\n",
       "                                       ('clf', Perceptron(random_state=42))]),\n",
       "             param_grid={'clf__alpha': [0.0001, 0.001, 0.01],\n",
       "                         'clf__max_iter': [500, 1000, 1500],\n",
       "                         'clf__penalty': ['l1', 'l2', 'elasticnet'],\n",
       "                         'vect__max_features': [1500, 1750, 2000]},\n",
       "             scoring=make_scorer(Avg1))"
      ]
     },
     "execution_count": 17,
     "metadata": {},
     "output_type": "execute_result"
    },
    {
     "name": "stdout",
     "output_type": "stream",
     "text": [
      "Best hyperparameters: {'clf__alpha': 0.0001, 'clf__max_iter': 500, 'clf__penalty': 'l1', 'vect__max_features': 2000}\n",
      "Cross-validation score: 0.64\n",
      "<---------------------------------------------------------------------->\n",
      "Model: Logistic Regression\n"
     ]
    },
    {
     "data": {
      "text/plain": [
       "GridSearchCV(cv=10,\n",
       "             estimator=Pipeline(steps=[('vect',\n",
       "                                        CountVectorizer(ngram_range=(1, 2),\n",
       "                                                        tokenizer=<function custom_tokenizer at 0x00000234245C6550>)),\n",
       "                                       ('clf',\n",
       "                                        LogisticRegression(max_iter=1000))]),\n",
       "             param_grid={'clf__C': [0.01, 0.1, 1, 10],\n",
       "                         'clf__class_weight': [None, 'balanced'],\n",
       "                         'clf__penalty': ['l1', 'l2'],\n",
       "                         'clf__solver': ['liblinear', 'saga'],\n",
       "                         'vect__max_features': [1500, 1750, 2000]},\n",
       "             scoring=make_scorer(Avg1))"
      ]
     },
     "execution_count": 17,
     "metadata": {},
     "output_type": "execute_result"
    },
    {
     "name": "stdout",
     "output_type": "stream",
     "text": [
      "Best hyperparameters: {'clf__C': 0.1, 'clf__class_weight': 'balanced', 'clf__penalty': 'l2', 'clf__solver': 'liblinear', 'vect__max_features': 1500}\n",
      "Cross-validation score: 0.69\n",
      "<---------------------------------------------------------------------->\n",
      "Model: Random Forest\n"
     ]
    },
    {
     "data": {
      "text/plain": [
       "GridSearchCV(cv=10,\n",
       "             estimator=Pipeline(steps=[('vect',\n",
       "                                        CountVectorizer(ngram_range=(1, 2),\n",
       "                                                        tokenizer=<function custom_tokenizer at 0x00000234245C6550>)),\n",
       "                                       ('clf',\n",
       "                                        RandomForestClassifier(random_state=42))]),\n",
       "             param_grid={'clf__max_depth': [None, 10, 20],\n",
       "                         'clf__min_samples_split': [2, 5, 10],\n",
       "                         'clf__n_estimators': [10, 50, 100],\n",
       "                         'vect__max_features': [1500, 1750, 2000]},\n",
       "             scoring=make_scorer(Avg1))"
      ]
     },
     "execution_count": 17,
     "metadata": {},
     "output_type": "execute_result"
    },
    {
     "name": "stdout",
     "output_type": "stream",
     "text": [
      "Best hyperparameters: {'clf__max_depth': None, 'clf__min_samples_split': 2, 'clf__n_estimators': 10, 'vect__max_features': 1500}\n",
      "Cross-validation score: 0.55\n",
      "<---------------------------------------------------------------------->\n",
      "Model: Decision Tree\n"
     ]
    },
    {
     "data": {
      "text/plain": [
       "GridSearchCV(cv=10,\n",
       "             estimator=Pipeline(steps=[('vect',\n",
       "                                        TfidfVectorizer(ngram_range=(1, 2),\n",
       "                                                        tokenizer=<function custom_tokenizer at 0x00000234245C6550>)),\n",
       "                                       ('clf',\n",
       "                                        DecisionTreeClassifier(random_state=42))]),\n",
       "             param_grid={'clf__class_weight': [None, 'balanced'],\n",
       "                         'clf__max_depth': [5, 10, 15, 20],\n",
       "                         'vect__max_features': [1500, 1750, 2000, 2500]},\n",
       "             scoring=make_scorer(Avg1))"
      ]
     },
     "execution_count": 17,
     "metadata": {},
     "output_type": "execute_result"
    },
    {
     "name": "stdout",
     "output_type": "stream",
     "text": [
      "Best hyperparameters: {'clf__class_weight': None, 'clf__max_depth': 20, 'vect__max_features': 2500}\n",
      "Cross-validation score: 0.59\n",
      "<---------------------------------------------------------------------->\n",
      "Model: K-Nearest Neighbors\n"
     ]
    },
    {
     "data": {
      "text/plain": [
       "GridSearchCV(cv=10,\n",
       "             estimator=Pipeline(steps=[('vect',\n",
       "                                        TfidfVectorizer(ngram_range=(1, 2),\n",
       "                                                        tokenizer=<function custom_tokenizer at 0x00000234245C6550>)),\n",
       "                                       ('clf', KNeighborsClassifier())]),\n",
       "             param_grid={'clf__n_neighbors': [3, 5, 7],\n",
       "                         'clf__weights': ['uniform', 'distance'],\n",
       "                         'vect__max_features': [1500, 1750, 2000]},\n",
       "             scoring=make_scorer(Avg1))"
      ]
     },
     "execution_count": 17,
     "metadata": {},
     "output_type": "execute_result"
    },
    {
     "name": "stdout",
     "output_type": "stream",
     "text": [
      "Best hyperparameters: {'clf__n_neighbors': 3, 'clf__weights': 'distance', 'vect__max_features': 1500}\n",
      "Cross-validation score: 0.59\n",
      "<---------------------------------------------------------------------->\n",
      "Model: Multinomial Naive Bayes\n"
     ]
    },
    {
     "data": {
      "text/plain": [
       "GridSearchCV(cv=10,\n",
       "             estimator=Pipeline(steps=[('vect',\n",
       "                                        TfidfVectorizer(ngram_range=(1, 2),\n",
       "                                                        tokenizer=<function custom_tokenizer at 0x00000234245C6550>)),\n",
       "                                       ('clf', MultinomialNB())]),\n",
       "             param_grid={'clf__alpha': [0.01, 0.1, 0.5, 1],\n",
       "                         'clf__fit_prior': [True, False],\n",
       "                         'vect__max_features': [1500, 1750, 2000, 2200]},\n",
       "             scoring=make_scorer(Avg1))"
      ]
     },
     "execution_count": 17,
     "metadata": {},
     "output_type": "execute_result"
    },
    {
     "name": "stdout",
     "output_type": "stream",
     "text": [
      "Best hyperparameters: {'clf__alpha': 0.1, 'clf__fit_prior': False, 'vect__max_features': 2200}\n",
      "Cross-validation score: 0.68\n",
      "<---------------------------------------------------------------------->\n",
      "Model: Linear Support Vector Classification\n"
     ]
    },
    {
     "data": {
      "text/plain": [
       "GridSearchCV(cv=10,\n",
       "             estimator=Pipeline(steps=[('vect',\n",
       "                                        TfidfVectorizer(ngram_range=(1, 2),\n",
       "                                                        tokenizer=<function custom_tokenizer at 0x00000234245C6550>)),\n",
       "                                       ('clf', LinearSVC(random_state=42))]),\n",
       "             param_grid={'clf__C': [0.1, 1, 10],\n",
       "                         'clf__class_weight': [None, 'balanced'],\n",
       "                         'vect__max_features': [1500, 1750, 2000]},\n",
       "             scoring=make_scorer(Avg1))"
      ]
     },
     "execution_count": 17,
     "metadata": {},
     "output_type": "execute_result"
    },
    {
     "name": "stdout",
     "output_type": "stream",
     "text": [
      "Best hyperparameters: {'clf__C': 0.1, 'clf__class_weight': 'balanced', 'vect__max_features': 2000}\n",
      "Cross-validation score: 0.69\n",
      "<---------------------------------------------------------------------->\n",
      "Model: Stochastic Gradient Descent\n"
     ]
    },
    {
     "data": {
      "text/plain": [
       "GridSearchCV(cv=10,\n",
       "             estimator=Pipeline(steps=[('vect',\n",
       "                                        TfidfVectorizer(ngram_range=(1, 2),\n",
       "                                                        tokenizer=<function custom_tokenizer at 0x00000234245C6550>)),\n",
       "                                       ('clf',\n",
       "                                        SGDClassifier(random_state=42))]),\n",
       "             param_grid={'clf__alpha': [0.0001, 0.001, 0.01],\n",
       "                         'clf__l1_ratio': [0.15, 0.5, 0.85],\n",
       "                         'clf__max_iter': [500, 1000, 1500],\n",
       "                         'clf__penalty': ['l2', 'elasticnet'],\n",
       "                         'vect__max_features': [1500, 1750, 2000]},\n",
       "             scoring=make_scorer(Avg1))"
      ]
     },
     "execution_count": 17,
     "metadata": {},
     "output_type": "execute_result"
    },
    {
     "name": "stdout",
     "output_type": "stream",
     "text": [
      "Best hyperparameters: {'clf__alpha': 0.0001, 'clf__l1_ratio': 0.85, 'clf__max_iter': 500, 'clf__penalty': 'elasticnet', 'vect__max_features': 2000}\n",
      "Cross-validation score: 0.68\n",
      "<---------------------------------------------------------------------->\n",
      "Model: Perceptron\n"
     ]
    },
    {
     "data": {
      "text/plain": [
       "GridSearchCV(cv=10,\n",
       "             estimator=Pipeline(steps=[('vect',\n",
       "                                        TfidfVectorizer(ngram_range=(1, 2),\n",
       "                                                        tokenizer=<function custom_tokenizer at 0x00000234245C6550>)),\n",
       "                                       ('clf', Perceptron(random_state=42))]),\n",
       "             param_grid={'clf__alpha': [0.0001, 0.001, 0.01],\n",
       "                         'clf__max_iter': [500, 1000, 1500],\n",
       "                         'clf__penalty': ['l1', 'l2', 'elasticnet'],\n",
       "                         'vect__max_features': [1500, 1750, 2000]},\n",
       "             scoring=make_scorer(Avg1))"
      ]
     },
     "execution_count": 17,
     "metadata": {},
     "output_type": "execute_result"
    },
    {
     "name": "stdout",
     "output_type": "stream",
     "text": [
      "Best hyperparameters: {'clf__alpha': 0.0001, 'clf__max_iter': 500, 'clf__penalty': 'elasticnet', 'vect__max_features': 2000}\n",
      "Cross-validation score: 0.65\n",
      "<---------------------------------------------------------------------->\n",
      "Model: Logistic Regression\n"
     ]
    },
    {
     "data": {
      "text/plain": [
       "GridSearchCV(cv=10,\n",
       "             estimator=Pipeline(steps=[('vect',\n",
       "                                        TfidfVectorizer(ngram_range=(1, 2),\n",
       "                                                        tokenizer=<function custom_tokenizer at 0x00000234245C6550>)),\n",
       "                                       ('clf',\n",
       "                                        LogisticRegression(max_iter=1000))]),\n",
       "             param_grid={'clf__C': [0.01, 0.1, 1, 10],\n",
       "                         'clf__class_weight': [None, 'balanced'],\n",
       "                         'clf__penalty': ['l1', 'l2'],\n",
       "                         'clf__solver': ['liblinear', 'saga'],\n",
       "                         'vect__max_features': [1500, 1750, 2000]},\n",
       "             scoring=make_scorer(Avg1))"
      ]
     },
     "execution_count": 17,
     "metadata": {},
     "output_type": "execute_result"
    },
    {
     "name": "stdout",
     "output_type": "stream",
     "text": [
      "Best hyperparameters: {'clf__C': 1, 'clf__class_weight': 'balanced', 'clf__penalty': 'l2', 'clf__solver': 'liblinear', 'vect__max_features': 2000}\n",
      "Cross-validation score: 0.70\n",
      "<---------------------------------------------------------------------->\n",
      "Model: Random Forest\n"
     ]
    },
    {
     "data": {
      "text/plain": [
       "GridSearchCV(cv=10,\n",
       "             estimator=Pipeline(steps=[('vect',\n",
       "                                        TfidfVectorizer(ngram_range=(1, 2),\n",
       "                                                        tokenizer=<function custom_tokenizer at 0x00000234245C6550>)),\n",
       "                                       ('clf',\n",
       "                                        RandomForestClassifier(random_state=42))]),\n",
       "             param_grid={'clf__max_depth': [None, 10, 20],\n",
       "                         'clf__min_samples_split': [2, 5, 10],\n",
       "                         'clf__n_estimators': [10, 50, 100],\n",
       "                         'vect__max_features': [1500, 1750, 2000]},\n",
       "             scoring=make_scorer(Avg1))"
      ]
     },
     "execution_count": 17,
     "metadata": {},
     "output_type": "execute_result"
    },
    {
     "name": "stdout",
     "output_type": "stream",
     "text": [
      "Best hyperparameters: {'clf__max_depth': None, 'clf__min_samples_split': 2, 'clf__n_estimators': 10, 'vect__max_features': 2000}\n",
      "Cross-validation score: 0.55\n",
      "<---------------------------------------------------------------------->\n",
      "\n",
      "The best model is:\n",
      "Logistic Regression\n",
      "Best model details:\n",
      "Pipeline(steps=[('vect',\n",
      "                 TfidfVectorizer(max_features=2000,\n",
      "                                 tokenizer=<function custom_tokenizer at 0x00000234245C6550>)),\n",
      "                ('clf',\n",
      "                 LogisticRegression(C=1, class_weight='balanced', max_iter=1000,\n",
      "                                    solver='liblinear'))])\n",
      "\n",
      "Cross-validation score: 0.71\n"
     ]
    }
   ],
   "source": [
    "best_model = None\n",
    "best_score = 0\n",
    "best_model_name = None\n",
    "\n",
    "for vect in vectorizers:\n",
    "    for model in models:\n",
    "        print(\"Model: %s\" % model['name'])\n",
    "        pipeline = Pipeline([\n",
    "            ('vect', vect),\n",
    "            ('clf', model['estimator'])\n",
    "        ])\n",
    "\n",
    "        grid_search = GridSearchCV(pipeline, model['hyperparameters'], cv=10, scoring=make_scorer(Avg1))\n",
    "        grid_search.fit(X, y)\n",
    "\n",
    "        if grid_search.best_score_ > best_score:\n",
    "            best_score = grid_search.best_score_\n",
    "            best_model = grid_search.best_estimator_\n",
    "            best_params=grid_search.best_params_\n",
    "            best_model_name = model['name']\n",
    "        \n",
    "       \n",
    "        print(\"Best hyperparameters: %s\" % grid_search.best_params_)\n",
    "        print(\"Cross-validation score: %0.2f\" % grid_search.best_score_)\n",
    "        print(\"<---------------------------------------------------------------------->\")\n",
    "        \n",
    "print(\"\\nThe best model is:\")\n",
    "print(best_model_name)  \n",
    "print(\"Best model details:\")\n",
    "print(best_model)\n",
    "print(\"\\nCross-validation score: %0.2f\" % best_score)"
   ]
  },
  {
   "cell_type": "code",
   "execution_count": 18,
   "metadata": {},
   "outputs": [
    {
     "name": "stdout",
     "output_type": "stream",
     "text": [
      "     test_example_id                                              story\n",
      "0                  0  כל קיץ אני והמשפחה נוסעים לארצות הברית לוס אנג...\n",
      "1                  1  הגעתי לשירות המדינה אחרי שנתיים כפעיל בתנועת \"...\n",
      "2                  2  אחת האהבות הגדולות שלי אלו הכלבים שלי ושל אישת...\n",
      "3                  3  רגע הגיוס לצבא היה הרגע הכי משמעותי עבורי, אני...\n",
      "4                  4  אני הגעתי לברזיל ישר מקולומביה וגם אני עשיתי ע...\n",
      "..               ...                                                ...\n",
      "318              318  בשנה האחרונה הרגשתי די תקוע בעבודה, השגרה הפכה...\n",
      "319              319  אני ואילן חברים טובים מזה 20 שנה תמיד חלמנו לפ...\n",
      "320              320  מידי יום שישי אני נוהג לנסוע בתחבורה ציבורית ס...\n",
      "321              321  לפני מספר חודשים, בשיא התחלואה של הגל השני, עמ...\n",
      "322              322  היום בו דיווחתי על גניבה של האוטו שלי. בוקר אח...\n",
      "\n",
      "[323 rows x 2 columns]\n"
     ]
    }
   ],
   "source": [
    "model = best_model\n",
    "df_predicted = df_test.copy()\n",
    "\n",
    "print(df_predicted)"
   ]
  },
  {
   "cell_type": "code",
   "execution_count": 19,
   "metadata": {},
   "outputs": [
    {
     "data": {
      "text/plain": [
       "Pipeline(steps=[('vect',\n",
       "                 TfidfVectorizer(max_features=2000,\n",
       "                                 tokenizer=<function custom_tokenizer at 0x00000234245C6550>)),\n",
       "                ('clf',\n",
       "                 LogisticRegression(C=1, class_weight='balanced', max_iter=1000,\n",
       "                                    solver='liblinear'))])"
      ]
     },
     "execution_count": 19,
     "metadata": {},
     "output_type": "execute_result"
    }
   ],
   "source": [
    "model.fit(df_train_copy['story'], df_train_copy['gender'])\n",
    "\n",
    "df_predicted['predicted_category'] = model.predict(df_test['story'])\n",
    "df_predicted.drop(['story',], axis=1, inplace=True)\n",
    "df_predicted.predicted_category.replace({0:'f',1:'m'},inplace=True)"
   ]
  },
  {
   "cell_type": "code",
   "execution_count": 20,
   "metadata": {},
   "outputs": [
    {
     "data": {
      "text/html": [
       "<div>\n",
       "<style scoped>\n",
       "    .dataframe tbody tr th:only-of-type {\n",
       "        vertical-align: middle;\n",
       "    }\n",
       "\n",
       "    .dataframe tbody tr th {\n",
       "        vertical-align: top;\n",
       "    }\n",
       "\n",
       "    .dataframe thead th {\n",
       "        text-align: right;\n",
       "    }\n",
       "</style>\n",
       "<table border=\"1\" class=\"dataframe\">\n",
       "  <thead>\n",
       "    <tr style=\"text-align: right;\">\n",
       "      <th></th>\n",
       "      <th>test_example_id</th>\n",
       "      <th>predicted_category</th>\n",
       "    </tr>\n",
       "  </thead>\n",
       "  <tbody>\n",
       "    <tr>\n",
       "      <th>0</th>\n",
       "      <td>0</td>\n",
       "      <td>m</td>\n",
       "    </tr>\n",
       "    <tr>\n",
       "      <th>1</th>\n",
       "      <td>1</td>\n",
       "      <td>m</td>\n",
       "    </tr>\n",
       "    <tr>\n",
       "      <th>2</th>\n",
       "      <td>2</td>\n",
       "      <td>f</td>\n",
       "    </tr>\n",
       "    <tr>\n",
       "      <th>3</th>\n",
       "      <td>3</td>\n",
       "      <td>m</td>\n",
       "    </tr>\n",
       "    <tr>\n",
       "      <th>4</th>\n",
       "      <td>4</td>\n",
       "      <td>m</td>\n",
       "    </tr>\n",
       "  </tbody>\n",
       "</table>\n",
       "</div>"
      ],
      "text/plain": [
       "   test_example_id predicted_category\n",
       "0                0                  m\n",
       "1                1                  m\n",
       "2                2                  f\n",
       "3                3                  m\n",
       "4                4                  m"
      ]
     },
     "execution_count": 20,
     "metadata": {},
     "output_type": "execute_result"
    }
   ],
   "source": [
    "df_predicted.head()\n"
   ]
  },
  {
   "cell_type": "code",
   "execution_count": null,
   "metadata": {},
   "outputs": [],
   "source": []
  },
  {
   "cell_type": "code",
   "execution_count": null,
   "metadata": {},
   "outputs": [],
   "source": []
  },
  {
   "cell_type": "code",
   "execution_count": null,
   "metadata": {},
   "outputs": [],
   "source": []
  },
  {
   "cell_type": "code",
   "execution_count": null,
   "metadata": {},
   "outputs": [],
   "source": []
  },
  {
   "cell_type": "markdown",
   "metadata": {},
   "source": [
    "### Save output to csv (optional)\n",
    "After you're done save your output to the 'classification_results.csv' csv file.<br/>\n",
    "We assume that the dataframe with your results contain the following columns:\n",
    "* column 1 (left column): 'test_example_id'  - the same id associated to each of the test stories to be predicted.\n",
    "* column 2 (right column): 'predicted_category' - the predicted gender value for each of the associated story. \n",
    "\n",
    "Assuming your predicted values are in the `df_predicted` dataframe, you should save you're results as following:"
   ]
  },
  {
   "cell_type": "code",
   "execution_count": 21,
   "metadata": {},
   "outputs": [],
   "source": [
    "df_predicted.to_csv('classification_results.csv',index=False)"
   ]
  }
 ],
 "metadata": {
  "celltoolbar": "Create Assignment",
  "kernelspec": {
   "display_name": "Python 3 (ipykernel)",
   "language": "python",
   "name": "python3"
  },
  "language_info": {
   "codemirror_mode": {
    "name": "ipython",
    "version": 3
   },
   "file_extension": ".py",
   "mimetype": "text/x-python",
   "name": "python",
   "nbconvert_exporter": "python",
   "pygments_lexer": "ipython3",
   "version": "3.9.13"
  }
 },
 "nbformat": 4,
 "nbformat_minor": 4
}
